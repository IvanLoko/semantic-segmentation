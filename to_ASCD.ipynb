{
 "cells": [
  {
   "cell_type": "code",
   "execution_count": 8,
   "id": "aa6b865c",
   "metadata": {},
   "outputs": [],
   "source": [
    "import tensorflow as tf\n",
    "from tensorflow.keras import utils\n",
    "import matplotlib.pyplot as plt\n",
    "import os\n",
    "import numpy as np\n",
    "from PIL import Image\n",
    "import cv2"
   ]
  },
  {
   "cell_type": "code",
   "execution_count": 2,
   "id": "8512bec9",
   "metadata": {},
   "outputs": [],
   "source": [
    "# Загружаем подготовленные данные \n",
    "x_train = np.load('data/x_train.npy')\n",
    "y_train = np.load('./data/y_train.npy')\n",
    "x_test = np.load('./data/x_val.npy')\n",
    "y_test = np.load('./data/y_val.npy')"
   ]
  },
  {
   "cell_type": "code",
   "execution_count": 3,
   "id": "88caa6d3",
   "metadata": {},
   "outputs": [],
   "source": [
    "# Строим модель\n",
    "\n",
    "def build_model():\n",
    "    x = tf.keras.Input((256, 256, 3))\n",
    "    \n",
    "    out = tf.keras.layers.Conv2D(64, (3,3), padding='same', activation='relu')(x)\n",
    "    out1 = tf.keras.layers.Conv2D(64, (3,3), padding='same', activation='relu')(out)\n",
    "    out =  tf.keras.layers.MaxPool2D((2,2))(out1)\n",
    "        \n",
    "    out = tf.keras.layers.Conv2D(128, (3,3), padding='same', activation='relu')(out)\n",
    "    out2 = tf.keras.layers.Conv2D(128, (3,3), padding='same', activation='relu')(out)\n",
    "    out =  tf.keras.layers.MaxPool2D((2,2))(out2)\n",
    "    \n",
    "        \n",
    "    out = tf.keras.layers.Conv2D(256, (3,3), padding='same', activation='relu')(out)\n",
    "    out3 = tf.keras.layers.Conv2D(256, (3,3), padding='same', activation='relu')(out)\n",
    "    out =  tf.keras.layers.MaxPool2D((2,2))(out3)\n",
    "    \n",
    "        \n",
    "    out = tf.keras.layers.Conv2D(512, (3,3), padding='same', activation='relu')(out)\n",
    "    out4 = tf.keras.layers.Conv2D(512, (3,3), padding='same', activation='relu')(out)\n",
    "    out =  tf.keras.layers.MaxPool2D((2,2))(out4)\n",
    "    \n",
    "    out = tf.keras.layers.Conv2D(1024, (3,3), padding='same', activation='relu')(out)\n",
    "    out = tf.keras.layers.Conv2D(1024, (3,3), padding='same', activation='relu')(out)\n",
    "    \n",
    "    out = tf.keras.layers.Conv2DTranspose(512, (3,3), strides=(2,2), padding='same', activation='relu')(out)\n",
    "    out = tf.concat([out4, out], axis=3)\n",
    "    \n",
    "    out = tf.keras.layers.Conv2D(512, (3,3), padding='same', activation='relu')(out)\n",
    "    out = tf.keras.layers.Conv2D(512, (3,3), padding='same', activation='relu')(out)\n",
    "    \n",
    "    out = tf.keras.layers.Conv2DTranspose(256, (3,3), strides=(2,2), padding='same', activation='relu')(out)\n",
    "    out = tf.concat([out3, out], axis=3)\n",
    "    \n",
    "    out = tf.keras.layers.Conv2D(256, (3,3), padding='same', activation='relu')(out)\n",
    "    out = tf.keras.layers.Conv2D(256, (3,3), padding='same', activation='relu')(out)\n",
    "    \n",
    "    out = tf.keras.layers.Conv2DTranspose(128, (3,3), strides=(2,2), padding='same', activation='relu')(out)\n",
    "    out = tf.concat([out2, out], axis=3)\n",
    "    \n",
    "    out = tf.keras.layers.Conv2D(128, (3,3), padding='same', activation='relu')(out)\n",
    "    out = tf.keras.layers.Conv2D(128, (3,3), padding='same', activation='relu')(out)\n",
    "    \n",
    "    out = tf.keras.layers.Conv2DTranspose(64, (3,3), strides=(2,2), padding='same', activation='relu')(out)\n",
    "    out = tf.concat([out1, out], axis=3)\n",
    "    \n",
    "    out = tf.keras.layers.Conv2D(64, (3,3), padding='same', activation='relu')(out)\n",
    "    out = tf.keras.layers.Conv2D(64, (3,3), padding='same', activation='relu')(out)\n",
    "    # Выбираем softmax, так как формально класса 2 - пины и фон \n",
    "    out = tf.keras.layers.Conv2D(2, (3,3), padding='same', activation='softmax')(out)\n",
    "    \n",
    "    return  tf.keras.Model(inputs = x, outputs = out)\n",
    "    \n",
    "model = build_model()"
   ]
  },
  {
   "cell_type": "code",
   "execution_count": 5,
   "id": "d5ac7fb9",
   "metadata": {},
   "outputs": [],
   "source": [
    "# воссоздаем модель \n",
    "\n",
    "model = build_model()\n",
    "model.compile(optimizer='adam', loss='categorical_crossentropy', metrics=['accuracy'])\n",
    "model.load_weights('./data/U-net/weights.hdf5')"
   ]
  },
  {
   "cell_type": "code",
   "execution_count": 6,
   "id": "3c4e0448",
   "metadata": {},
   "outputs": [],
   "source": [
    "def show_cnt(img):\n",
    "    \n",
    "    ttt = img.copy()\n",
    "    \n",
    "    plt.figure(figsize=(10,10))\n",
    "    \n",
    "    det = model.predict(img[None, ...])[0,...][:,:,1]\n",
    "    det = np.where(det > 0.1, 255, 0)\n",
    "\n",
    "    contours, hierarchy = cv2.findContours(\n",
    "    det.copy(),cv2.RETR_FLOODFILL ,cv2.CHAIN_APPROX_SIMPLE)\n",
    "\n",
    "    i=0\n",
    "    for cnt in contours:\n",
    "        if cv2.contourArea(cnt) > 200:\n",
    "            cv2.drawContours(ttt,[cnt],0,(0,255,0),1, cv2.CV_FILLED)\n",
    "            i+=1\n",
    "    plt.imshow(ttt)\n",
    "    \n",
    "    plt.show()\n",
    "    \n",
    "    print(i)\n",
    "    \n",
    "\n",
    "\n",
    "    \n"
   ]
  },
  {
   "cell_type": "code",
   "execution_count": 7,
   "id": "91a6d3ff",
   "metadata": {},
   "outputs": [
    {
     "ename": "AttributeError",
     "evalue": "module 'cv2' has no attribute 'CV_FILLED'",
     "output_type": "error",
     "traceback": [
      "\u001b[1;31m---------------------------------------------------------------------------\u001b[0m",
      "\u001b[1;31mAttributeError\u001b[0m                            Traceback (most recent call last)",
      "\u001b[1;32m~\\AppData\\Local\\Temp/ipykernel_5324/636371095.py\u001b[0m in \u001b[0;36m<module>\u001b[1;34m\u001b[0m\n\u001b[0;32m      1\u001b[0m \u001b[0mimg\u001b[0m \u001b[1;33m=\u001b[0m \u001b[0mx_test\u001b[0m\u001b[1;33m[\u001b[0m\u001b[1;36m2\u001b[0m\u001b[1;33m]\u001b[0m\u001b[1;33m\u001b[0m\u001b[1;33m\u001b[0m\u001b[0m\n\u001b[1;32m----> 2\u001b[1;33m \u001b[0mshow_cnt\u001b[0m\u001b[1;33m(\u001b[0m\u001b[0mimg\u001b[0m\u001b[1;33m)\u001b[0m\u001b[1;33m\u001b[0m\u001b[1;33m\u001b[0m\u001b[0m\n\u001b[0m",
      "\u001b[1;32m~\\AppData\\Local\\Temp/ipykernel_5324/3450318883.py\u001b[0m in \u001b[0;36mshow_cnt\u001b[1;34m(img)\u001b[0m\n\u001b[0;32m     14\u001b[0m     \u001b[1;32mfor\u001b[0m \u001b[0mcnt\u001b[0m \u001b[1;32min\u001b[0m \u001b[0mcontours\u001b[0m\u001b[1;33m:\u001b[0m\u001b[1;33m\u001b[0m\u001b[1;33m\u001b[0m\u001b[0m\n\u001b[0;32m     15\u001b[0m         \u001b[1;32mif\u001b[0m \u001b[0mcv2\u001b[0m\u001b[1;33m.\u001b[0m\u001b[0mcontourArea\u001b[0m\u001b[1;33m(\u001b[0m\u001b[0mcnt\u001b[0m\u001b[1;33m)\u001b[0m \u001b[1;33m>\u001b[0m \u001b[1;36m200\u001b[0m\u001b[1;33m:\u001b[0m\u001b[1;33m\u001b[0m\u001b[1;33m\u001b[0m\u001b[0m\n\u001b[1;32m---> 16\u001b[1;33m             \u001b[0mcv2\u001b[0m\u001b[1;33m.\u001b[0m\u001b[0mdrawContours\u001b[0m\u001b[1;33m(\u001b[0m\u001b[0mttt\u001b[0m\u001b[1;33m,\u001b[0m\u001b[1;33m[\u001b[0m\u001b[0mcnt\u001b[0m\u001b[1;33m]\u001b[0m\u001b[1;33m,\u001b[0m\u001b[1;36m0\u001b[0m\u001b[1;33m,\u001b[0m\u001b[1;33m(\u001b[0m\u001b[1;36m0\u001b[0m\u001b[1;33m,\u001b[0m\u001b[1;36m255\u001b[0m\u001b[1;33m,\u001b[0m\u001b[1;36m0\u001b[0m\u001b[1;33m)\u001b[0m\u001b[1;33m,\u001b[0m\u001b[1;36m1\u001b[0m\u001b[1;33m,\u001b[0m \u001b[0mcv2\u001b[0m\u001b[1;33m.\u001b[0m\u001b[0mCV_FILLED\u001b[0m\u001b[1;33m)\u001b[0m\u001b[1;33m\u001b[0m\u001b[1;33m\u001b[0m\u001b[0m\n\u001b[0m\u001b[0;32m     17\u001b[0m             \u001b[0mi\u001b[0m\u001b[1;33m+=\u001b[0m\u001b[1;36m1\u001b[0m\u001b[1;33m\u001b[0m\u001b[1;33m\u001b[0m\u001b[0m\n\u001b[0;32m     18\u001b[0m     \u001b[0mplt\u001b[0m\u001b[1;33m.\u001b[0m\u001b[0mimshow\u001b[0m\u001b[1;33m(\u001b[0m\u001b[0mttt\u001b[0m\u001b[1;33m)\u001b[0m\u001b[1;33m\u001b[0m\u001b[1;33m\u001b[0m\u001b[0m\n",
      "\u001b[1;31mAttributeError\u001b[0m: module 'cv2' has no attribute 'CV_FILLED'"
     ]
    },
    {
     "data": {
      "text/plain": [
       "<Figure size 720x720 with 0 Axes>"
      ]
     },
     "metadata": {},
     "output_type": "display_data"
    }
   ],
   "source": [
    "img = x_test[2]\n",
    "show_cnt(img)\n"
   ]
  },
  {
   "cell_type": "code",
   "execution_count": null,
   "id": "30996bf3",
   "metadata": {},
   "outputs": [],
   "source": []
  }
 ],
 "metadata": {
  "kernelspec": {
   "display_name": "Python 3 (ipykernel)",
   "language": "python",
   "name": "python3"
  },
  "language_info": {
   "codemirror_mode": {
    "name": "ipython",
    "version": 3
   },
   "file_extension": ".py",
   "mimetype": "text/x-python",
   "name": "python",
   "nbconvert_exporter": "python",
   "pygments_lexer": "ipython3",
   "version": "3.9.7"
  }
 },
 "nbformat": 4,
 "nbformat_minor": 5
}
